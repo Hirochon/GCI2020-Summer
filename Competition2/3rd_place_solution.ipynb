{
 "cells": [
  {
   "cell_type": "markdown",
   "metadata": {},
   "source": [
    "### 1. 必要なライブラリをimport"
   ]
  },
  {
   "cell_type": "code",
   "execution_count": null,
   "metadata": {
    "colab": {},
    "colab_type": "code",
    "id": "-Aw2JdEUZHur"
   },
   "outputs": [],
   "source": [
    "import numpy as np\n",
    "import pandas as pd\n",
    "from sklearn.model_selection import StratifiedKFold\n",
    "from sklearn.metrics import roc_auc_score\n",
    "import lightgbm as lgbm"
   ]
  },
  {
   "cell_type": "markdown",
   "metadata": {},
   "source": [
    "### 2. Colabでやっていたため、マウントしてます"
   ]
  },
  {
   "cell_type": "code",
   "execution_count": null,
   "metadata": {
    "colab": {},
    "colab_type": "code",
    "id": "bVg9hic1ZglR"
   },
   "outputs": [],
   "source": [
    "from google.colab import drive\n",
    "drive.mount('/content/drive')"
   ]
  },
  {
   "cell_type": "code",
   "execution_count": null,
   "metadata": {
    "colab": {},
    "colab_type": "code",
    "id": "SRpjMzJZZpag"
   },
   "outputs": [],
   "source": [
    "cd drive/My Drive/GCI2020/Competition2/Model"
   ]
  },
  {
   "cell_type": "markdown",
   "metadata": {},
   "source": [
    "### 3. 必要なCSVファイルを読み込み"
   ]
  },
  {
   "cell_type": "code",
   "execution_count": null,
   "metadata": {
    "colab": {},
    "colab_type": "code",
    "id": "j_76VZD0ZHu9"
   },
   "outputs": [],
   "source": [
    "train_df = pd.read_csv('../input/train.csv')\n",
    "test_df = pd.read_csv('../input/test.csv')\n",
    "sample_submission = pd.read_csv('../sample_submission.csv')\n",
    "df_all = pd.concat([train_df, test_df], axis=0)"
   ]
  },
  {
   "cell_type": "markdown",
   "metadata": {},
   "source": [
    "### 4. One Hot Encoding"
   ]
  },
  {
   "cell_type": "code",
   "execution_count": null,
   "metadata": {
    "colab": {},
    "colab_type": "code",
    "id": "yR-JeRZsZpnz"
   },
   "outputs": [],
   "source": [
    "def one_hot_encoding(df):\n",
    "    \n",
    "    return_df = pd.get_dummies(df, drop_first=True)\n",
    "    \n",
    "    return return_df"
   ]
  },
  {
   "cell_type": "markdown",
   "metadata": {},
   "source": [
    "### 5. 四則演算特徴量の作成"
   ]
  },
  {
   "cell_type": "code",
   "execution_count": null,
   "metadata": {
    "colab": {},
    "colab_type": "code",
    "id": "K2kfvkOOcYSB"
   },
   "outputs": [],
   "source": [
    "def to_add_feature(df):\n",
    "    \n",
    "    df['EXT_123_mean'] = (df['EXT_SOURCE_1'] + df['EXT_SOURCE_2'] + df['EXT_SOURCE_3']) / 3\n",
    "    df['EXT_23_mean'] = (df['EXT_SOURCE_2'] + df['EXT_SOURCE_3']) / 2\n",
    "    df['EXT_12_mean'] = (df['EXT_SOURCE_1'] + df['EXT_SOURCE_2']) / 2\n",
    "    df['EXT_13_mean'] = (df['EXT_SOURCE_1'] + df['EXT_SOURCE_3']) / 2\n",
    "    df['EXT_23_sabun'] = abs(df['EXT_SOURCE_2'] - df['EXT_SOURCE_3'])\n",
    "    df['EXT_12_sabun'] = abs(df['EXT_SOURCE_1'] - df['EXT_SOURCE_2'])\n",
    "    df['EXT_13_sabun'] = abs(df['EXT_SOURCE_1'] - df['EXT_SOURCE_3'])\n",
    "    \n",
    "    df['CREDIT_ANNUITY'] = df['AMT_ANNUITY'] / df['AMT_CREDIT']\n",
    "    df['CREDIT_GOODS_PRICE'] = df['AMT_CREDIT'] / df['AMT_GOODS_PRICE']\n",
    "    df['INCOME_TOTAL_ANNUITY'] = df['AMT_ANNUITY'] / df['AMT_INCOME_TOTAL']\n",
    "    df['INCOME_TOTAL_CREDIT'] = df['AMT_INCOME_TOTAL'] / df['AMT_CREDIT']\n",
    "    \n",
    "    df['DAYS_BIRTH_365_OWN_CAR_AGE'] = (df['DAYS_BIRTH'] / 365) - df['OWN_CAR_AGE']\n",
    "\n",
    "    df['DAYS_EMPLOYED'].replace(365243, np.nan, inplace=True)\n",
    "    \n",
    "    return df"
   ]
  },
  {
   "cell_type": "markdown",
   "metadata": {},
   "source": [
    "### 6. 不必要なカラムを消去"
   ]
  },
  {
   "cell_type": "code",
   "execution_count": null,
   "metadata": {
    "colab": {},
    "colab_type": "code",
    "id": "oyPaPuqXZHv9"
   },
   "outputs": [],
   "source": [
    "def to_drop(df):\n",
    "    \n",
    "    drop_list = ['FLAG_MOBIL', 'FLAG_CONT_MOBILE', 'REG_REGION_NOT_LIVE_REGION', 'LIVE_REGION_NOT_WORK_REGION']\n",
    "    droped_df = df.drop(columns=drop_list)\n",
    "    \n",
    "    return droped_df"
   ]
  },
  {
   "cell_type": "code",
   "execution_count": null,
   "metadata": {
    "colab": {},
    "colab_type": "code",
    "id": "M_p3hTojccd_"
   },
   "outputs": [],
   "source": [
    "df_encoded = one_hot_encoding(df_all)\n",
    "added_features_df = to_add_feature(df_encoded)\n",
    "all_features_df = to_drop(added_features_df)"
   ]
  },
  {
   "cell_type": "markdown",
   "metadata": {},
   "source": [
    "### 7. お気持ちデバッグ"
   ]
  },
  {
   "cell_type": "code",
   "execution_count": null,
   "metadata": {
    "colab": {},
    "colab_type": "code",
    "id": "jQAavomtceSE"
   },
   "outputs": [],
   "source": [
    "assert len(df_all) == len(df_encoded)\n",
    "assert len(df_all) == len(added_features_df)\n",
    "assert len(df_all) == len(all_features_df)"
   ]
  },
  {
   "cell_type": "code",
   "execution_count": null,
   "metadata": {
    "colab": {},
    "colab_type": "code",
    "id": "BJMr3fRXZHwJ"
   },
   "outputs": [],
   "source": [
    "display(all_features_df)"
   ]
  },
  {
   "cell_type": "markdown",
   "metadata": {},
   "source": [
    "### 8. データを分割"
   ]
  },
  {
   "cell_type": "code",
   "execution_count": null,
   "metadata": {
    "colab": {},
    "colab_type": "code",
    "id": "oXHxU5g5ZHwS"
   },
   "outputs": [],
   "source": [
    "train = all_features_df[all_features_df.loc[:, 'SK_ID_CURR'] < 171202]\n",
    "test = all_features_df[all_features_df.loc[:, 'SK_ID_CURR'] > 171201]"
   ]
  },
  {
   "cell_type": "code",
   "execution_count": null,
   "metadata": {
    "colab": {},
    "colab_type": "code",
    "id": "WCzXSJnHZHwj"
   },
   "outputs": [],
   "source": [
    "train_x = train.drop(columns=['TARGET', 'SK_ID_CURR'])\n",
    "train_y = train['TARGET']\n",
    "test_x = test.drop(columns=['TARGET', 'SK_ID_CURR'])"
   ]
  },
  {
   "cell_type": "code",
   "execution_count": null,
   "metadata": {
    "colab": {},
    "colab_type": "code",
    "id": "egYaafi_ZHwq"
   },
   "outputs": [],
   "source": [
    "X = train_x.values\n",
    "y = train_y.values"
   ]
  },
  {
   "cell_type": "markdown",
   "metadata": {},
   "source": [
    "### 9. SteatifiedKFoldによるCVを準備"
   ]
  },
  {
   "cell_type": "code",
   "execution_count": null,
   "metadata": {
    "colab": {},
    "colab_type": "code",
    "id": "USRPtbPdZHwx"
   },
   "outputs": [],
   "source": [
    "fold = StratifiedKFold(n_splits=8, shuffle=True, random_state=69)\n",
    "cv = list(fold.split(X, y))"
   ]
  },
  {
   "cell_type": "markdown",
   "metadata": {},
   "source": [
    "### 10. Optunaを使ったハイパーパラメータの探索結果"
   ]
  },
  {
   "cell_type": "code",
   "execution_count": null,
   "metadata": {
    "colab": {},
    "colab_type": "code",
    "id": "2scf7hsy5I9K"
   },
   "outputs": [],
   "source": [
    "lgbm_best_param = {'reg_lambda': 1.1564659040946654, 'reg_alpha': 9.90877329623665, 'colsample_bytree': 0.5034991685866442, 'subsample': 0.6055998601661783, 'max_depth': 3, 'min_child_weight': 39.72586351155486, 'learning_rate': 0.08532489659779158}"
   ]
  },
  {
   "cell_type": "markdown",
   "metadata": {},
   "source": [
    "### 11. CVするための関数作成"
   ]
  },
  {
   "cell_type": "code",
   "execution_count": null,
   "metadata": {
    "colab": {},
    "colab_type": "code",
    "id": "sB7QRMQyZHxF"
   },
   "outputs": [],
   "source": [
    "def fit_lgbm(X, y, cv, params: dict=None, verbose=100):\n",
    "    \n",
    "    oof_preds = np.zeros(X.shape[0])\n",
    "\n",
    "    if params is None:\n",
    "        params = {}\n",
    "\n",
    "    models = []\n",
    "\n",
    "    for i, (idx_train, idx_valid) in enumerate(cv):\n",
    "        x_train, y_train = X[idx_train], y[idx_train]\n",
    "        x_valid, y_valid = X[idx_valid], y[idx_valid]\n",
    "\n",
    "        clf = lgbm.LGBMClassifier(**params, random_state=71, n_estimators=10000)\n",
    "        clf.fit(x_train, y_train, \n",
    "                eval_set=[(x_valid, y_valid)],  \n",
    "                early_stopping_rounds=100, \n",
    "                eval_metric='auc',\n",
    "                verbose=verbose)\n",
    "\n",
    "        models.append(clf)\n",
    "        oof_preds[idx_valid] = clf.predict_proba(x_valid, num_iteration=clf.best_iteration_)[:, 1]\n",
    "        print('Fold %2d AUC : %.6f' % (i + 1, roc_auc_score(y_valid, oof_preds[idx_valid])))\n",
    "    \n",
    "    score = roc_auc_score(y, oof_preds)\n",
    "    print('Full AUC score %.6f' % score) \n",
    "    return oof_preds, models"
   ]
  },
  {
   "cell_type": "code",
   "execution_count": null,
   "metadata": {
    "colab": {},
    "colab_type": "code",
    "id": "yRCPfLBUZHxK"
   },
   "outputs": [],
   "source": [
    "oof, models = fit_lgbm(X, y, cv=cv, params=lgbm_best_param)"
   ]
  },
  {
   "cell_type": "markdown",
   "metadata": {},
   "source": [
    "### 12. 予測"
   ]
  },
  {
   "cell_type": "code",
   "execution_count": null,
   "metadata": {
    "colab": {},
    "colab_type": "code",
    "id": "oV4dye2LZHxp"
   },
   "outputs": [],
   "source": [
    "pred = np.array([model.predict_proba(test_x.values)[:, 1] for model in models])\n",
    "pred = np.mean(pred, axis=0)"
   ]
  },
  {
   "cell_type": "code",
   "execution_count": null,
   "metadata": {
    "colab": {},
    "colab_type": "code",
    "id": "sCfL_4iXZHxv"
   },
   "outputs": [],
   "source": [
    "submission = sample_submission.copy()\n",
    "submission['TARGET'] = pred"
   ]
  },
  {
   "cell_type": "code",
   "execution_count": null,
   "metadata": {
    "colab": {},
    "colab_type": "code",
    "id": "i5CMX3vPZHx3"
   },
   "outputs": [],
   "source": [
    "# submission.to_csv('../submissions/3rd_place_solution.csv', index=False)"
   ]
  }
 ],
 "metadata": {
  "colab": {
   "collapsed_sections": [],
   "name": "3rd_place_solution.ipynb",
   "provenance": []
  },
  "kernelspec": {
   "display_name": "Python 3",
   "language": "python",
   "name": "python3"
  },
  "language_info": {
   "codemirror_mode": {
    "name": "ipython",
    "version": 3
   },
   "file_extension": ".py",
   "mimetype": "text/x-python",
   "name": "python",
   "nbconvert_exporter": "python",
   "pygments_lexer": "ipython3",
   "version": "3.7.6"
  }
 },
 "nbformat": 4,
 "nbformat_minor": 1
}
