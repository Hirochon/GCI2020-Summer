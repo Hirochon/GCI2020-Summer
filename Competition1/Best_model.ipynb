{
 "cells": [
  {
   "cell_type": "code",
   "execution_count": 1,
   "metadata": {},
   "outputs": [],
   "source": [
    "import numpy as np\n",
    "import pandas as pd\n",
    "from collections import defaultdict\n",
    "from xgboost import XGBClassifier\n",
    "import warnings\n",
    "warnings.filterwarnings('ignore')"
   ]
  },
  {
   "cell_type": "code",
   "execution_count": 2,
   "metadata": {},
   "outputs": [],
   "source": [
    "train = pd.read_csv('/code/competition1/input/train.csv')\n",
    "test = pd.read_csv('/code/competition1/input/test.csv')\n",
    "gender_submission = pd.read_csv('/code/competition1/gender_submission.csv')"
   ]
  },
  {
   "cell_type": "code",
   "execution_count": 3,
   "metadata": {},
   "outputs": [],
   "source": [
    "\"\"\"trainとtestでデータの結合\"\"\"\n",
    "df_all = pd.concat([train, test], axis=0)\n",
    "df_all = df_all.reset_index(drop=True)\n",
    "all_family = df_all.sort_values('Name')"
   ]
  },
  {
   "cell_type": "code",
   "execution_count": 4,
   "metadata": {},
   "outputs": [],
   "source": [
    "\"\"\"名前の被りを調べる\"\"\" \n",
    "names = defaultdict(int)\n",
    "one = 0\n",
    "two = 0\n",
    "reigai = 0\n",
    "for fid in all_family.index:\n",
    "    name = all_family.loc[fid, 'Name']\n",
    "    spi_name = name.split()\n",
    "    if spi_name[0][-1] == ',':\n",
    "        names[spi_name[0]] += 1\n",
    "        one += 1\n",
    "    elif spi_name[1][-1]:\n",
    "        names[spi_name[0]+' '+spi_name[1]] += 1\n",
    "        two += 1\n",
    "    else:\n",
    "        reigai += 1\n",
    "# print('one: ', one, 'two: ', two, 'reigai: ', reigai)"
   ]
  },
  {
   "cell_type": "code",
   "execution_count": 5,
   "metadata": {},
   "outputs": [],
   "source": [
    "\"\"\"２以上の被りが合った名前リストを作成\"\"\"\n",
    "# some_names = {}\n",
    "names_list = []\n",
    "for name in names.items():\n",
    "    if name[1] > 1:\n",
    "#         some_names[name[0]] = []\n",
    "        names_list.append(name[0])\n",
    "# print(some_names, len(some_names), sep='\\n')"
   ]
  },
  {
   "cell_type": "code",
   "execution_count": 6,
   "metadata": {},
   "outputs": [
    {
     "data": {
      "text/plain": [
       "'被り名前をグループ単位で列挙'"
      ]
     },
     "execution_count": 6,
     "metadata": {},
     "output_type": "execute_result"
    }
   ],
   "source": [
    "\"\"\"被り名前をグループ単位で列挙\"\"\"\n",
    "# for i, name in enumerate(df_all.loc[:, 'Name']):\n",
    "#     nasp = name.split()\n",
    "#     if nasp[0] in names_list:\n",
    "#         some_names[nasp[0]].append(name)\n",
    "#     elif (nasp[0] + ' ' +nasp[1]) in names_list:\n",
    "#         some_names[nasp[0] + ' ' +nasp[1]].append(name)\n",
    "# display(some_names)"
   ]
  },
  {
   "cell_type": "code",
   "execution_count": 7,
   "metadata": {},
   "outputs": [],
   "source": [
    "\"\"\"名前被りのグループでラベルをつける\"\"\"\n",
    "survived_list = []\n",
    "died_list = []\n",
    "for i in names_list:\n",
    "    data = df_all[df_all['Name'].str.startswith(i)]\n",
    "    train_data = data[data.loc[:, 'PassengerId'] < 892]\n",
    "    test_data = data[data.loc[:, 'PassengerId'] > 891]\n",
    "    data_fe = train_data[train_data.loc[:, 'Sex'] == 'female']\n",
    "    data_ma = train_data[(train_data['Name'].str.contains('Master')) & (train_data.loc[:, 'Sex'] == 'male')]\n",
    "    felen = len(data_fe)\n",
    "    malen = len(data_ma)\n",
    "    flag = 0\n",
    "    flag_mabo = 0\n",
    "    \n",
    "    data_maboroshi = train_data[(train_data.loc[:, 'Sex'] == 'male') & (train_data.loc[:, 'Age'] > 15)]\n",
    "    mabolen = len(data_maboroshi)\n",
    "    if mabolen > 0:\n",
    "        sulen = len(data_maboroshi[data_maboroshi.loc[:, 'Survived'] == 1])\n",
    "        if sulen == mabolen:\n",
    "            flag_mabo = 1\n",
    "    \n",
    "    if felen > 0:\n",
    "        sulen = len(data_fe[data_fe.loc[:, 'Survived'] == 1])\n",
    "        if sulen == felen:\n",
    "            flag = 1\n",
    "            if malen > 0:\n",
    "                sulen = len(data_ma[data_ma.loc[:, 'Survived'] == 1])\n",
    "                if sulen != malen:\n",
    "                    flag = 2\n",
    "        else:\n",
    "            flag = 2\n",
    "    elif malen > 0:\n",
    "        sulen = len(data_ma[data_ma.loc[:, 'Survived'] == 1])\n",
    "        if sulen == malen:\n",
    "            flag = 1\n",
    "        else:\n",
    "            flag = 2        \n",
    "    \n",
    "    if flag == 1:\n",
    "        if flag_mabo == 1:\n",
    "            for li in data.loc[:, 'PassengerId']:\n",
    "                survived_list.append(li)\n",
    "        survived_data = data[(data.loc[:, 'Sex'] == 'female') | (data['Name'].str.contains('Master'))]\n",
    "        for li in survived_data.loc[:, 'PassengerId']:\n",
    "            survived_list.append(li)\n",
    "    elif flag == 2:\n",
    "        for li in data.loc[:, 'PassengerId']:\n",
    "            died_list.append(li)\n",
    "    elif felen == 0 and malen == 0 and flag_mabo == 1:\n",
    "        for li in data.loc[:, 'PassengerId']:\n",
    "            survived_list.append(li)"
   ]
  },
  {
   "cell_type": "code",
   "execution_count": 30,
   "metadata": {},
   "outputs": [],
   "source": [
    "survived_list = sorted(list(set(survived_list)))\n",
    "died_list = sorted(list(set(died_list)))\n",
    "# print(len(survived_list), len(died_list), len(survived_list) + len(died_list))"
   ]
  },
  {
   "cell_type": "code",
   "execution_count": 9,
   "metadata": {},
   "outputs": [],
   "source": [
    "s_list = survived_list.copy()\n",
    "d_list = died_list.copy()\n",
    "s_list.extend(d_list)\n",
    "s_list.sort()\n",
    "# print(s_list)\n",
    "# print(len(s_list))\n",
    "# len(pd.Series(s_list).unique())"
   ]
  },
  {
   "cell_type": "code",
   "execution_count": 10,
   "metadata": {},
   "outputs": [],
   "source": [
    "all_status_dict = {}\n",
    "for i in range(1, 1310):\n",
    "    if i in survived_list:\n",
    "        all_status_dict[i] = \"S\"\n",
    "    elif i in died_list:\n",
    "        all_status_dict[i] = \"D\"\n",
    "    else:\n",
    "        all_status_dict[i] = \"N\""
   ]
  },
  {
   "cell_type": "code",
   "execution_count": 11,
   "metadata": {},
   "outputs": [],
   "source": [
    "family_status = pd.DataFrame(pd.Series(all_status_dict)).reset_index()\n",
    "family_status = family_status.rename(columns={'index':'PassengerId', 0:'fstatus'})\n",
    "# display(family_status)"
   ]
  },
  {
   "cell_type": "code",
   "execution_count": 12,
   "metadata": {},
   "outputs": [],
   "source": [
    "df_all_status = pd.merge(df_all, family_status)\n",
    "# display(df_all_status)"
   ]
  },
  {
   "cell_type": "code",
   "execution_count": 13,
   "metadata": {},
   "outputs": [],
   "source": [
    "ticket_num = pd.DataFrame(df_all.Ticket.value_counts()).reset_index().rename(columns={'Ticket':'Ticket_Num', 'index':'Ticket'})\n",
    "# display(ticket_num)"
   ]
  },
  {
   "cell_type": "code",
   "execution_count": 14,
   "metadata": {},
   "outputs": [],
   "source": [
    "df_all_status = pd.merge(df_all_status, ticket_num, on='Ticket')\n",
    "# df_all_status"
   ]
  },
  {
   "cell_type": "code",
   "execution_count": 15,
   "metadata": {},
   "outputs": [],
   "source": [
    "train = df_all_status[df_all_status.loc[:, 'PassengerId'] < 892].sort_values('PassengerId').reset_index(drop=True)\n",
    "test = df_all_status[df_all_status.loc[:, 'PassengerId'] > 891].sort_values('PassengerId').reset_index(drop=True)\n",
    "# display(train, test)"
   ]
  },
  {
   "cell_type": "code",
   "execution_count": 16,
   "metadata": {},
   "outputs": [],
   "source": [
    "train['Embarked'] = train['Embarked'].fillna('S')\n",
    "test['Embarked'] = test['Embarked'].fillna('S')\n",
    "\n",
    "train['family'] = train['SibSp'] + train['Parch']\n",
    "test['family'] = test['SibSp'] + test['Parch']"
   ]
  },
  {
   "cell_type": "code",
   "execution_count": 17,
   "metadata": {},
   "outputs": [],
   "source": [
    "def add_dummy(df):\n",
    "    df['Pclass'] = df['Pclass'].astype(np.str)\n",
    "    temp = pd.get_dummies(df[['Sex','Embarked','Pclass', 'fstatus']], drop_first = False)\n",
    "    temp['PassengerId'] = df['PassengerId']\n",
    "    return pd.merge(df, temp)"
   ]
  },
  {
   "cell_type": "code",
   "execution_count": 18,
   "metadata": {},
   "outputs": [],
   "source": [
    "train = add_dummy(train)\n",
    "test = add_dummy(test)"
   ]
  },
  {
   "cell_type": "code",
   "execution_count": 19,
   "metadata": {},
   "outputs": [],
   "source": [
    "# display(train.head(), test.head())"
   ]
  },
  {
   "cell_type": "code",
   "execution_count": 20,
   "metadata": {},
   "outputs": [],
   "source": [
    "# display(train.columns)"
   ]
  },
  {
   "cell_type": "code",
   "execution_count": 21,
   "metadata": {},
   "outputs": [],
   "source": [
    "#Drop unnecessary feature\n",
    "def get_feature_mat(df):\n",
    "    temp = df.drop(columns=['PassengerId','Name','Sex','SibSp','Parch','Ticket','Embarked','Age','Cabin','Pclass','fstatus'])\n",
    "    try:\n",
    "        temp = temp.drop(columns=['Survived'])\n",
    "    except:\n",
    "        pass\n",
    "    print (temp)\n",
    "    return temp"
   ]
  },
  {
   "cell_type": "code",
   "execution_count": 22,
   "metadata": {},
   "outputs": [
    {
     "name": "stdout",
     "output_type": "stream",
     "text": [
      "        Fare  Ticket_Num  family  Sex_female  Sex_male  Embarked_C  \\\n",
      "0     7.2500           1       1           0         1           0   \n",
      "1    71.2833           2       1           1         0           1   \n",
      "2     7.9250           1       0           1         0           0   \n",
      "3    53.1000           2       1           1         0           0   \n",
      "4     8.0500           1       0           0         1           0   \n",
      "..       ...         ...     ...         ...       ...         ...   \n",
      "886  13.0000           1       0           0         1           0   \n",
      "887  30.0000           1       0           1         0           0   \n",
      "888  23.4500           4       3           1         0           0   \n",
      "889  30.0000           1       0           0         1           1   \n",
      "890   7.7500           1       0           0         1           0   \n",
      "\n",
      "     Embarked_Q  Embarked_S  Pclass_1  Pclass_2  Pclass_3  fstatus_D  \\\n",
      "0             0           1         0         0         1          0   \n",
      "1             0           0         1         0         0          0   \n",
      "2             0           1         0         0         1          0   \n",
      "3             0           1         1         0         0          0   \n",
      "4             0           1         0         0         1          0   \n",
      "..          ...         ...       ...       ...       ...        ...   \n",
      "886           0           1         0         1         0          0   \n",
      "887           0           1         1         0         0          0   \n",
      "888           0           1         0         0         1          1   \n",
      "889           0           0         1         0         0          0   \n",
      "890           1           0         0         0         1          0   \n",
      "\n",
      "     fstatus_N  fstatus_S  \n",
      "0            1          0  \n",
      "1            0          1  \n",
      "2            1          0  \n",
      "3            0          1  \n",
      "4            1          0  \n",
      "..         ...        ...  \n",
      "886          1          0  \n",
      "887          0          1  \n",
      "888          0          0  \n",
      "889          1          0  \n",
      "890          1          0  \n",
      "\n",
      "[891 rows x 14 columns]\n",
      "         Fare  Ticket_Num  family  Sex_female  Sex_male  Embarked_C  \\\n",
      "0      7.8292           1       0           0         1           0   \n",
      "1      7.0000           1       1           1         0           0   \n",
      "2      9.6875           1       0           0         1           0   \n",
      "3      8.6625           1       0           0         1           0   \n",
      "4     12.2875           2       2           1         0           0   \n",
      "..        ...         ...     ...         ...       ...         ...   \n",
      "413    8.0500           1       0           0         1           0   \n",
      "414  108.9000           3       0           1         0           1   \n",
      "415    7.2500           1       0           0         1           0   \n",
      "416    8.0500           1       0           0         1           0   \n",
      "417   22.3583           3       2           0         1           1   \n",
      "\n",
      "     Embarked_Q  Embarked_S  Pclass_1  Pclass_2  Pclass_3  fstatus_D  \\\n",
      "0             1           0         0         0         1          0   \n",
      "1             0           1         0         0         1          0   \n",
      "2             1           0         0         1         0          0   \n",
      "3             0           1         0         0         1          0   \n",
      "4             0           1         0         0         1          0   \n",
      "..          ...         ...       ...       ...       ...        ...   \n",
      "413           0           1         0         0         1          0   \n",
      "414           0           0         1         0         0          0   \n",
      "415           0           1         0         0         1          0   \n",
      "416           0           1         0         0         1          0   \n",
      "417           0           0         0         0         1          0   \n",
      "\n",
      "     fstatus_N  fstatus_S  \n",
      "0            1          0  \n",
      "1            1          0  \n",
      "2            1          0  \n",
      "3            1          0  \n",
      "4            0          1  \n",
      "..         ...        ...  \n",
      "413          1          0  \n",
      "414          1          0  \n",
      "415          1          0  \n",
      "416          1          0  \n",
      "417          0          1  \n",
      "\n",
      "[418 rows x 14 columns]\n"
     ]
    }
   ],
   "source": [
    "x_train = get_feature_mat(train)\n",
    "x_test = get_feature_mat(test)"
   ]
  },
  {
   "cell_type": "code",
   "execution_count": 23,
   "metadata": {},
   "outputs": [],
   "source": [
    "y_train = train['Survived'].astype(int)\n",
    "# display(y_train)"
   ]
  },
  {
   "cell_type": "code",
   "execution_count": 24,
   "metadata": {},
   "outputs": [],
   "source": [
    "# display(x_train,x_test)"
   ]
  },
  {
   "cell_type": "code",
   "execution_count": 25,
   "metadata": {},
   "outputs": [
    {
     "data": {
      "text/plain": [
       "array([0, 1, 0, 0, 1, 0, 1, 0, 1, 0, 0, 0, 1, 0, 1, 1, 0, 0, 0, 1, 0, 0,\n",
       "       1, 0, 1, 0, 1, 0, 0, 0, 0, 0, 1, 0, 0, 0, 1, 0, 0, 1, 0, 0, 0, 1,\n",
       "       1, 0, 0, 0, 1, 1, 0, 0, 1, 1, 0, 0, 0, 0, 0, 1, 0, 0, 0, 1, 1, 1,\n",
       "       1, 0, 0, 1, 1, 0, 1, 0, 1, 0, 0, 1, 0, 1, 0, 0, 0, 0, 0, 0, 1, 1,\n",
       "       1, 1, 0, 0, 1, 0, 0, 0, 1, 0, 1, 0, 1, 0, 0, 0, 1, 0, 0, 0, 0, 0,\n",
       "       0, 1, 1, 1, 1, 0, 0, 1, 0, 1, 1, 0, 1, 0, 0, 0, 0, 1, 0, 0, 0, 0,\n",
       "       0, 0, 0, 0, 0, 0, 1, 0, 0, 1, 0, 0, 0, 0, 0, 0, 0, 0, 1, 0, 0, 0,\n",
       "       0, 0, 1, 1, 0, 0, 1, 1, 1, 0, 0, 1, 0, 0, 1, 1, 0, 0, 0, 0, 0, 1,\n",
       "       1, 0, 1, 1, 0, 0, 1, 0, 1, 0, 1, 0, 0, 0, 0, 0, 0, 0, 1, 0, 1, 1,\n",
       "       0, 1, 1, 0, 0, 1, 0, 0, 1, 0, 1, 0, 0, 0, 0, 1, 0, 0, 1, 0, 1, 0,\n",
       "       1, 0, 1, 0, 1, 1, 0, 1, 0, 0, 0, 1, 0, 0, 0, 0, 0, 0, 1, 1, 1, 1,\n",
       "       0, 0, 0, 0, 1, 0, 1, 0, 1, 0, 0, 0, 0, 0, 0, 0, 1, 0, 0, 0, 1, 0,\n",
       "       0, 0, 0, 0, 1, 0, 0, 0, 1, 0, 0, 1, 0, 0, 0, 0, 0, 0, 1, 1, 0, 0,\n",
       "       0, 0, 0, 0, 0, 1, 0, 0, 0, 0, 1, 0, 0, 0, 0, 0, 0, 0, 1, 1, 0, 1,\n",
       "       0, 0, 0, 0, 0, 1, 1, 1, 0, 0, 1, 0, 0, 0, 0, 0, 1, 0, 1, 0, 0, 0,\n",
       "       1, 0, 0, 1, 0, 0, 0, 0, 0, 0, 0, 0, 0, 1, 0, 1, 0, 1, 0, 1, 1, 0,\n",
       "       0, 0, 1, 0, 1, 0, 0, 0, 0, 1, 1, 0, 1, 0, 0, 1, 1, 0, 0, 1, 0, 0,\n",
       "       1, 1, 0, 0, 0, 0, 0, 0, 0, 0, 0, 1, 0, 0, 0, 0, 0, 1, 1, 0, 0, 1,\n",
       "       0, 1, 0, 0, 1, 0, 1, 0, 1, 0, 0, 0, 1, 0, 1, 1, 1, 0, 1, 0, 0, 1])"
      ]
     },
     "execution_count": 25,
     "metadata": {},
     "output_type": "execute_result"
    }
   ],
   "source": [
    "xgb = XGBClassifier(max_depth=3, learning_rate=0.1, n_estimators=80)\n",
    "xgb.fit(x_train, y_train)\n",
    "y_test = xgb.predict(x_test)\n",
    "y_test"
   ]
  },
  {
   "cell_type": "code",
   "execution_count": 26,
   "metadata": {},
   "outputs": [],
   "source": [
    "test['Survived'] = y_test.astype(np.int)"
   ]
  },
  {
   "cell_type": "code",
   "execution_count": 27,
   "metadata": {},
   "outputs": [],
   "source": [
    "submission = test[[\"PassengerId\",\"Survived\"]]\n",
    "# display(submission)"
   ]
  },
  {
   "cell_type": "code",
   "execution_count": 28,
   "metadata": {},
   "outputs": [],
   "source": [
    "submission.to_csv('../submission_hirochon.csv', index=False)"
   ]
  },
  {
   "cell_type": "code",
   "execution_count": null,
   "metadata": {},
   "outputs": [],
   "source": []
  }
 ],
 "metadata": {
  "kernelspec": {
   "display_name": "Python 3",
   "language": "python",
   "name": "python3"
  },
  "language_info": {
   "codemirror_mode": {
    "name": "ipython",
    "version": 3
   },
   "file_extension": ".py",
   "mimetype": "text/x-python",
   "name": "python",
   "nbconvert_exporter": "python",
   "pygments_lexer": "ipython3",
   "version": "3.7.6"
  }
 },
 "nbformat": 4,
 "nbformat_minor": 4
}
